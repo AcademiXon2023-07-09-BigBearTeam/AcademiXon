{
 "cells": [
  {
   "cell_type": "code",
   "execution_count": 5,
   "metadata": {
    "collapsed": true
   },
   "outputs": [],
   "source": [
    "import os\n",
    "from slack_bolt import App\n",
    "from slack_bolt.adapter.socket_mode import SocketModeHandler\n",
    "import re\n",
    "import requests\n",
    "import openai\n",
    "import numpy as np\n",
    "import tempfile, os\n",
    "from moviepy.editor import VideoFileClip, AudioFileClip, concatenate_videoclips\n",
    "from google.cloud import texttospeech\n",
    "from slack_sdk import WebClient\n",
    "\n",
    "SLACK_BOT_TOKEN = \"token\"\n",
    "SLACK_APP_TOKEN = \"token\"\n",
    "openai.api_key = \"api key\"\n",
    "os.environ[\"GOOGLE_APPLICATION_CREDENTIALS\"] = \"GCPのAPIkey\""
   ]
  },
  {
   "cell_type": "code",
   "execution_count": null,
   "outputs": [],
   "source": [
    "client = texttospeech.TextToSpeechClient()\n",
    "bot = WebClient(SLACK_BOT_TOKEN)\n",
    "auth_test = bot.auth_test()\n",
    "bot_user_id = auth_test[\"user_id\"]\n",
    "app = App(token=SLACK_BOT_TOKEN)\n",
    "\n",
    "# SlackBotが有効であるかチェック\n",
    "print(f\"App's bot user: {bot_user_id}\")\n",
    "\n",
    "#声の設定\n",
    "voice = texttospeech.VoiceSelectionParams(\n",
    "    name=\"ja-JP-Wavenet-A\",\n",
    "    language_code=\"ja-JP\",\n",
    "    ssml_gender=texttospeech.SsmlVoiceGender.MALE\n",
    ")\n",
    "\n",
    "#生成する音声ファイルのエンコード方式\n",
    "audio_config = texttospeech.AudioConfig(\n",
    "    audio_encoding=texttospeech.AudioEncoding.LINEAR16\n",
    ")"
   ],
   "metadata": {
    "collapsed": false
   }
  },
  {
   "cell_type": "code",
   "execution_count": null,
   "outputs": [],
   "source": [
    "# プロンプトを基に文章を生成する関数\n",
    "def completion(new_message_text:str):\n",
    "    character_settings = f\"\"\"\n",
    "    あなたは大熊という名前の、テクノロジーに精通していて、会話中に頻繁に「すね」や「んすよ」という独特の終助詞を用い、また話し始めるときには「えっとそうっすね」や「えっとなんだろう」という口癖を頻繁に使う人物です。\n",
    "    ただし語尾に入れた結果あまりに不自然になる場合は入れないでください．\n",
    "    あなたは敬意を持って相手に接しながらも、カジュアルな表現を使うことがあります．\n",
    "    程度の表現に関しては割とやそこそこを多用します．\n",
    "    一人称は必ず僕です．\n",
    "    この条件のもとで私の入力に対して大熊さんになりきって自然な日本語でチャットを返してくれますか？\n",
    "    返す言葉は必ず100字以内の短いものにしてください\n",
    "    ではシミュレーションを開始します。\n",
    "    ###\n",
    "    text: {new_message_text}\n",
    "    \"\"\"\n",
    "    new_message = [\n",
    "        {\"role\": \"assistant\", \"content\": character_settings},\n",
    "    ]\n",
    "\n",
    "    result = openai.ChatCompletion.create(\n",
    "        model=\"gpt-3.5-turbo\",\n",
    "        messages=new_message\n",
    "    )\n",
    "    response_message_text = result.choices[0].message.content\n",
    "    return response_message_text\n",
    "\n",
    "# Slackにファイルをアップロードする関数\n",
    "def upload_file(file_path):\n",
    "    url = \"https://slack.com/api/files.upload\"\n",
    "    headers = {\n",
    "        \"Authorization\": f\"Bearer {SLACK_BOT_TOKEN}\",\n",
    "    }\n",
    "\n",
    "    files = {\n",
    "        \"file\": open(file_path, \"rb\"),\n",
    "    }\n",
    "\n",
    "    response = requests.post(url, headers=headers, files=files)\n",
    "    response_data = response.json()\n",
    "    if response_data[\"ok\"]:\n",
    "        return response_data[\"file\"][\"url_private\"]\n",
    "    else:\n",
    "        return None\n",
    "\n",
    "@app.event(\"message\") # ロギング\n",
    "def handle_message_events(body, logger):\n",
    "    logger.info(body)"
   ],
   "metadata": {
    "collapsed": false
   }
  },
  {
   "cell_type": "code",
   "execution_count": null,
   "outputs": [],
   "source": [
    "@app.event(\"app_mention\")  # chatbotにメンションが付けられたときのハンドラ\n",
    "def respond_to_mention(event, say):\n",
    "    say(\"考え中...\")\n",
    "    message = re.sub(r'^<.*>', '', event['text'])\n",
    "    message = completion(message)\n",
    "    synthesis_input = texttospeech.SynthesisInput(text=message)\n",
    "\n",
    "    response = client.synthesize_speech(\n",
    "        input=synthesis_input, voice=voice, audio_config=audio_config\n",
    "    )\n",
    "\n",
    "    # 音声ファイルを保存\n",
    "    with open(\"../assets/output.wav\", \"wb\") as f:\n",
    "        f.write(response.audio_content)\n",
    "\n",
    "    # 必要なファイルを読み込み\n",
    "    video_file = \"../assets/video.mp4\"\n",
    "    audio_file = \"../assets/output.wav\"\n",
    "\n",
    "    # 動画と音声を結合\n",
    "    video_clip = VideoFileClip(video_file)\n",
    "    audio_clip = AudioFileClip(audio_file)\n",
    "    audio_duration = audio_clip.duration\n",
    "    looped_video_clips = concatenate_videoclips([video_clip] * int(audio_duration / video_clip.duration))\n",
    "    final_clip = looped_video_clips.set_audio(audio_clip)\n",
    "\n",
    "    # 動画を保存\n",
    "    final_clip.write_videofile(\"output.mp4\", fps=video_clip.fps)\n",
    "\n",
    "    # 動画をSlackにアップロード\n",
    "    new_file = bot.files_upload(\n",
    "        title=\"My Test Text File\",\n",
    "        file=\"../assets/output.mp4\"\n",
    "    )\n",
    "    # アップロードしたファイルのURLを取得\n",
    "    file_url = new_file.get(\"file\").get(\"permalink\")\n",
    "\n",
    "    say(f\"大熊さんからの返答: { message }\", files=[{\n",
    "            \"name\": \"output.wav\",\n",
    "            \"url_private\": file_url\n",
    "    }])\n",
    "    say(\"file_url: \" + file_url)"
   ],
   "metadata": {
    "collapsed": false
   }
  },
  {
   "cell_type": "code",
   "execution_count": null,
   "outputs": [],
   "source": [
    "# SlackBotの起動\n",
    "SocketModeHandler(app, SLACK_APP_TOKEN).start()"
   ],
   "metadata": {
    "collapsed": false
   }
  }
 ],
 "metadata": {
  "kernelspec": {
   "display_name": "Python 3",
   "language": "python",
   "name": "python3"
  },
  "language_info": {
   "codemirror_mode": {
    "name": "ipython",
    "version": 2
   },
   "file_extension": ".py",
   "mimetype": "text/x-python",
   "name": "python",
   "nbconvert_exporter": "python",
   "pygments_lexer": "ipython2",
   "version": "2.7.6"
  }
 },
 "nbformat": 4,
 "nbformat_minor": 0
}
